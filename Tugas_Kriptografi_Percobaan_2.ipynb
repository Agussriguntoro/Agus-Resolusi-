{
  "nbformat": 4,
  "nbformat_minor": 0,
  "metadata": {
    "colab": {
      "provenance": [],
      "mount_file_id": "1597F9pcJJWFtD00GCGhM6LO7dxjMHMXi",
      "authorship_tag": "ABX9TyOt4F3QIbEZyAkm9ad8yRpx",
      "include_colab_link": true
    },
    "kernelspec": {
      "name": "python3",
      "display_name": "Python 3"
    },
    "language_info": {
      "name": "python"
    }
  },
  "cells": [
    {
      "cell_type": "markdown",
      "metadata": {
        "id": "view-in-github",
        "colab_type": "text"
      },
      "source": [
        "<a href=\"https://colab.research.google.com/github/Agussriguntoro/Agus-Resolusi-/blob/main/Tugas_Kriptografi_Percobaan_2.ipynb\" target=\"_parent\"><img src=\"https://colab.research.google.com/assets/colab-badge.svg\" alt=\"Open In Colab\"/></a>"
      ]
    },
    {
      "cell_type": "code",
      "execution_count": 7,
      "metadata": {
        "colab": {
          "base_uri": "https://localhost:8080/"
        },
        "id": "CKeETNNtPiW2",
        "outputId": "ac677e91-93e3-4dd7-f0f0-b80ce390d380"
      },
      "outputs": [
        {
          "output_type": "stream",
          "name": "stdout",
          "text": [
            "Drive already mounted at /content/drive; to attempt to forcibly remount, call drive.mount(\"/content/drive\", force_remount=True).\n",
            "Masukkan kata kunci: rahasia\n",
            "Enkripsi selesai. Hasil disimpan di /content/drive/My Drive/Ciper.tex\n"
          ]
        }
      ],
      "source": [
        "# Mengambil file plnat tex dari  Google Drive\n",
        "\n",
        "from google.colab import drive\n",
        "drive.mount('/content/drive')\n",
        "\n",
        "# Path ke file di Google Drive\n",
        "input_file_path = '/content/paint.tex'\n",
        "output_file_path = '/content/drive/My Drive/Ciper.tex'\n",
        "\n",
        "# Fungsi untuk enkripsi XOR\n",
        "def xor_encrypt(input_file, output_file, key):\n",
        "    try:\n",
        "        with open(input_file, 'r') as fin:\n",
        "            plaintext = fin.read()\n",
        "    except FileNotFoundError:\n",
        "        print(f\"File {input_file} tidak ditemukan.\")\n",
        "        return\n",
        "\n",
        "    ciphertext = []\n",
        "    key_length = len(key)\n",
        "    for i, char in enumerate(plaintext):\n",
        "        ciphertext.append(chr(ord(char) ^ ord(key[i % key_length])))\n",
        "\n",
        "    with open(output_file, 'w') as fout:\n",
        "        fout.write(''.join(ciphertext))\n",
        "    print(f\"Enkripsi selesai. Hasil disimpan di {output_file}\")\n",
        "\n",
        "# Meminta user untuk memasukkan kata kunci\n",
        "key = input(\"Masukkan kata kunci: \")\n",
        "\n",
        "# Memanggil fungsi enkripsi\n",
        "xor_encrypt(input_file_path, output_file_path, key)\n"
      ]
    },
    {
      "cell_type": "code",
      "source": [
        "# Mengambil file plnat tex dari Google Drive\n",
        "from google.colab import drive\n",
        "drive.mount('/content/drive')\n",
        "\n",
        "# Path ke file di Google Drive\n",
        "input_file_path = '/content/drive/My Drive/Ciper.tex'\n",
        "output_file_path = '/content/drive/My Drive/Decrypted_plain.tex'\n",
        "\n",
        "# Fungsi untuk enkripsi XOR\n",
        "def xor_encrypt(input_file, output_file, key):\n",
        "    try:\n",
        "        with open(input_file, 'r') as fin:\n",
        "            ciphertext = fin.read()\n",
        "    except FileNotFoundError:\n",
        "        print(f\"File {input_file} tidak ditemukan.\")\n",
        "        return\n",
        "\n",
        "    decrypted_text = []\n",
        "    key_length = len(key)\n",
        "    for i, char in enumerate(ciphertext):\n",
        "        decrypted_text.append(chr(ord(char) ^ ord(key[i % key_length])))\n",
        "\n",
        "    decrypted_text = ''.join(decrypted_text)\n",
        "\n",
        "    with open(output_file, 'w') as fout:\n",
        "        fout.write(decrypted_text)\n",
        "    print(f\"Dekripsi selesai. Hasil disimpan di {output_file}\")\n",
        "\n",
        "# Meminta user untuk memasukkan kata kunci\n",
        "key = input(\"Masukkan kata kunci: \")\n",
        "\n",
        "# Memanggil fungsi dekripsi\n",
        "xor_encrypt(input_file_path, output_file_path, key)\n",
        "\n",
        "# Membaca dan menampilkan hasil dekripsi\n",
        "try:\n",
        "    with open(output_file_path, 'r') as decrypted_file:\n",
        "        decrypted_text = decrypted_file.read()\n",
        "        print(\"Hasil dekripsi:\")\n",
        "        print(decrypted_text)\n",
        "except FileNotFoundError:\n",
        "    print(f\"File {output_file_path} tidak ditemukan.\")\n"
      ],
      "metadata": {
        "colab": {
          "base_uri": "https://localhost:8080/"
        },
        "id": "Gj2BknIUd23O",
        "outputId": "c24d89bd-47f2-4eed-fe2e-27c3b3245638"
      },
      "execution_count": 9,
      "outputs": [
        {
          "output_type": "stream",
          "name": "stdout",
          "text": [
            "Drive already mounted at /content/drive; to attempt to forcibly remount, call drive.mount(\"/content/drive\", force_remount=True).\n",
            "Masukkan kata kunci: secreat\n",
            "Dekripsi selesai. Hasil disimpan di /content/drive/My Drive/Decrypted_plain.tex\n",
            "Hasil dekripsi:\n",
            "@c~`6[R!Wiwwfr!ii}qmgke`rx(atcj`6cght|\n"
          ]
        }
      ]
    },
    {
      "cell_type": "code",
      "source": [
        "# Fungsi untuk melakukan enkripsi XOR pada teks dengan kunci\n",
        "def encrypt_xor(plaintext, key):\n",
        "    encrypted = []\n",
        "    key_index = 0\n",
        "    for char in plaintext:\n",
        "        # Operasi XOR antara karakter plaintext dan karakter kunci\n",
        "        encrypted_char = chr(ord(char) ^ ord(key[key_index]))\n",
        "        encrypted.append(encrypted_char)\n",
        "        key_index = (key_index + 1) % len(key)  # Loop kembali ke awal kunci jika sudah mencapai akhir\n",
        "    return ''.join(encrypted)\n",
        "\n",
        "# Fungsi untuk melakukan dekripsi XOR pada teks dengan kunci (opsional)\n",
        "def decrypt_xor(ciphertext, key):\n",
        "    decrypted = []\n",
        "    key_index = 0\n",
        "    for char in ciphertext:\n",
        "        decrypted_char = chr(ord(char) ^ ord(key[key_index]))\n",
        "        decrypted.append(decrypted_char)\n",
        "        key_index = (key_index + 1) % len(key)\n",
        "    return ''.join(decrypted)\n",
        "\n",
        "# Contoh penggunaan\n",
        "plaintext = \"Agus Sri Guntoto \"\n",
        "key = \"rahasia\"\n",
        "\n",
        "# Enkripsi teks\n",
        "encrypted_text = encrypt_xor(plaintext, key)\n",
        "print(\"Plaintext:\", plaintext)\n",
        "print(\"Key:\", key)\n",
        "print(\"Encrypted:\", encrypted_text)\n",
        "\n",
        "# Dekripsi teks\n",
        "decrypted_text = decrypt_xor(encrypted_text, key)\n",
        "print(\"Decrypted:\", decrypted_text)"
      ],
      "metadata": {
        "colab": {
          "base_uri": "https://localhost:8080/"
        },
        "id": "bIYgNPwgqw8R",
        "outputId": "064d2d5c-3edc-44f0-d303-daab6a82d83f"
      },
      "execution_count": 12,
      "outputs": [
        {
          "output_type": "stream",
          "name": "stdout",
          "text": [
            "Plaintext: Agus Sri Guntoto \n",
            "Key: rahasia\n",
            "Encrypted: 3\u0006\u001d\u0012S:\u0013\u001bA/\u0014\u001d\u001d\u000e\u0006\u000eH\n",
            "Decrypted: Agus Sri Guntoto \n"
          ]
        }
      ]
    },
    {
      "cell_type": "markdown",
      "source": [],
      "metadata": {
        "id": "eoi3PTuJq2Vh"
      }
    }
  ]
}